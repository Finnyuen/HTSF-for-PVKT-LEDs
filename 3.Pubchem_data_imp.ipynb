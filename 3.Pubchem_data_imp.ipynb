{
 "cells": [
  {
   "cell_type": "code",
   "execution_count": 1,
   "metadata": {},
   "outputs": [
    {
     "name": "stdout",
     "output_type": "stream",
     "text": [
      "Molecule quatity:70\n",
      "[7812, 7423, 9731, 7447, 7441, 79617, 11118, 75655, 74218, 136315, 222556, 28159, 379, 612, 978, 370, 1066, 967, 3845, 3442, 5570, 72924, 936, 240, 69150, 75498, 7487, 68400, 26323, 54747, 8431, 9808, 160117, 1176, 20861, 120047, 980, 12307, 16782, 62823, 30209, 9395, 7416, 1678, 1493, 5955, 7475, 8330, 7430, 7492, 12495, 7873, 31357, 13134, 668, 6535, 9275, 654, 1015, 14017, 255, 12793, 6327654, 74188, 6327349, 78452, 7369, 985, 12669616, 4190003]\n"
     ]
    }
   ],
   "source": [
    "import pandas as pd\n",
    "cid_list = pd.read_csv(\"data/CID_from_puchem.csv\")\n",
    "cid_list = cid_list[\"Compound CID\"].values.tolist()\n",
    "print(f\"Molecule quatity:{len(cid_list)}\")\n",
    "print(cid_list)"
   ]
  },
  {
   "cell_type": "code",
   "execution_count": 2,
   "metadata": {},
   "outputs": [
    {
     "name": "stdout",
     "output_type": "stream",
     "text": [
      "Success,data saved in path:data/pubchem_compounds.csv\n"
     ]
    }
   ],
   "source": [
    "import requests\n",
    "\n",
    "def download_pubchem_csv(cid_list, filename='pubchem_data.csv'):\n",
    "    cids = ','.join(map(str, cid_list))\n",
    "    url = f\"https://pubchem.ncbi.nlm.nih.gov/rest/pug/compound/cid/{cids}/property/IUPACName,MolecularFormula,IsomericSMILES/CSV\"\n",
    "    response = requests.get(url)\n",
    "    if response.status_code == 200:\n",
    "        with open(filename, 'w') as file:\n",
    "            file.write(response.text)\n",
    "        print(f\"Success,data saved in path:{filename}\")\n",
    "    else:\n",
    "        print(f\"Fail,state code: {response.status_code}\")\n",
    "download_pubchem_csv(cid_list, 'data/pubchem_compounds.csv')\n"
   ]
  }
 ],
 "metadata": {
  "kernelspec": {
   "display_name": "Python 3",
   "language": "python",
   "name": "python3"
  },
  "language_info": {
   "codemirror_mode": {
    "name": "ipython",
    "version": 3
   },
   "file_extension": ".py",
   "mimetype": "text/x-python",
   "name": "python",
   "nbconvert_exporter": "python",
   "pygments_lexer": "ipython3",
   "version": "3.11.4"
  }
 },
 "nbformat": 4,
 "nbformat_minor": 4
}
